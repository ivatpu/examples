{
 "cells": [
  {
   "cell_type": "code",
   "execution_count": null,
   "metadata": {},
   "outputs": [],
   "source": [
    "import numpy as np\n",
    "from PIL import Image\n",
    "from IPython.display import display\n",
    "from iva_applications.resnet50 import image_to_tensor\n",
    "from iva_applications.utils import TPURunner, TFRunner\n",
    "from iva_applications.imagenet.postprocess import tpu_tensor_to_classes"
   ]
  },
  {
   "cell_type": "markdown",
   "metadata": {},
   "source": [
    "## Чтение входного изображения и предобработка данных"
   ]
  },
  {
   "cell_type": "code",
   "execution_count": null,
   "metadata": {
    "scrolled": true
   },
   "outputs": [],
   "source": [
    "# считывание изображение в Pillow Image\n",
    "image = Image.open('ILSVRC2012_val_00000045.JPEG')\n",
    "# предварительная обработка данных (деление на 255 и конвертация в numpy array)\n",
    "tensor = image_to_tensor(image)\n",
    "tensor.shape"
   ]
  },
  {
   "cell_type": "code",
   "execution_count": null,
   "metadata": {
    "scrolled": false
   },
   "outputs": [],
   "source": [
    "# визуализация изображения\n",
    "display(image)"
   ]
  },
  {
   "cell_type": "markdown",
   "metadata": {},
   "source": [
    "## Инициализация программы для IVA TPU "
   ]
  },
  {
   "cell_type": "code",
   "execution_count": null,
   "metadata": {},
   "outputs": [],
   "source": [
    "# Инициализация IVA TPU предварительно скомпилированной программой\n",
    "program_path = 'resnet50.tpu'\n",
    "runner = TPURunner(program_path)"
   ]
  },
  {
   "cell_type": "markdown",
   "metadata": {},
   "source": [
    "## Запуск IVA TPU на исполнение"
   ]
  },
  {
   "cell_type": "code",
   "execution_count": null,
   "metadata": {},
   "outputs": [],
   "source": [
    "# отображение входных имен графа (соответствуют указанным при запуске квантования)\n",
    "runner.input_nodes"
   ]
  },
  {
   "cell_type": "code",
   "execution_count": null,
   "metadata": {},
   "outputs": [],
   "source": [
    "# отображение выходных имен графа (соответствуют указанным при запуске квантования)\n",
    "runner.output_nodes"
   ]
  },
  {
   "cell_type": "code",
   "execution_count": null,
   "metadata": {},
   "outputs": [],
   "source": [
    "# запуск исполнения сети на IVA TPU\n",
    "output_tensor = runner({\n",
    "    runner.input_nodes[0]: np.reshape(tensor, (1, 224, 224, 3))\n",
    "})"
   ]
  },
  {
   "cell_type": "markdown",
   "metadata": {},
   "source": [
    "## Обработка результатов исполнения"
   ]
  },
  {
   "cell_type": "code",
   "execution_count": null,
   "metadata": {},
   "outputs": [],
   "source": [
    "# декодирование результата в классы\n",
    "new_foundland_dog = tpu_tensor_to_classes(output_tensor[runner.output_nodes[0]])\n",
    "new_foundland_dog"
   ]
  }
 ],
 "metadata": {
  "kernelspec": {
   "display_name": "Python 3",
   "language": "python",
   "name": "python3"
  },
  "language_info": {
   "codemirror_mode": {
    "name": "ipython",
    "version": 3
   },
   "file_extension": ".py",
   "mimetype": "text/x-python",
   "name": "python",
   "nbconvert_exporter": "python",
   "pygments_lexer": "ipython3",
   "version": "3.6.9"
  }
 },
 "nbformat": 4,
 "nbformat_minor": 4
}
