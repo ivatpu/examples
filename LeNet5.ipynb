{
 "cells": [
  {
   "cell_type": "code",
   "execution_count": null,
   "metadata": {},
   "outputs": [],
   "source": [
    "import numpy as np\n",
    "from PIL import Image\n",
    "from IPython.display import display\n",
    "from iva_applications.lenet.preprocess import image_to_tensor\n",
    "from iva_applications.lenet.postprocess import tpu_tensor_to_classes\n",
    "from iva_applications.utils import TPURunner"
   ]
  },
  {
   "cell_type": "markdown",
   "metadata": {},
   "source": [
    "## Чтение входного изображения и предобработка данных"
   ]
  },
  {
   "cell_type": "code",
   "execution_count": null,
   "metadata": {},
   "outputs": [],
   "source": [
    "# считывание изображение в Pillow Image\n",
    "image = Image.open('img_181.jpg') \n",
    "# предварительная обработка данных (деление на 255 и конвертация в numpy array)\n",
    "tensor = image_to_tensor(image)\n",
    "tensor.shape"
   ]
  },
  {
   "cell_type": "code",
   "execution_count": null,
   "metadata": {
    "scrolled": true
   },
   "outputs": [],
   "source": [
    "# визуализация изображения\n",
    "display(image)"
   ]
  },
  {
   "cell_type": "markdown",
   "metadata": {},
   "source": [
    "## Запуск IVA TPU на исполнение"
   ]
  },
  {
   "cell_type": "code",
   "execution_count": null,
   "metadata": {},
   "outputs": [],
   "source": [
    "# Инициализация IVA TPU предварительно скомпилированной программой\n",
    "program_path = 'lenet5.tpu'\n",
    "runner = TPURunner(program_path)"
   ]
  },
  {
   "cell_type": "code",
   "execution_count": null,
   "metadata": {},
   "outputs": [],
   "source": [
    "# отображение входных имен графа (соответствуют указанным при запуске квантования)\n",
    "runner.input_nodes"
   ]
  },
  {
   "cell_type": "code",
   "execution_count": null,
   "metadata": {},
   "outputs": [],
   "source": [
    "# отображение выходных имен графа (соответствуют указанным при запуске квантования)\n",
    "runner.output_nodes"
   ]
  },
  {
   "cell_type": "code",
   "execution_count": null,
   "metadata": {},
   "outputs": [],
   "source": [
    "# запуск исполнения сети на IVA TPU\n",
    "output = runner({\n",
    "    runner.input_nodes[0]: np.reshape(tensor, (1, 28, 28, 1))\n",
    "})"
   ]
  },
  {
   "cell_type": "markdown",
   "metadata": {},
   "source": [
    "## Обработка результатов исполнения"
   ]
  },
  {
   "cell_type": "code",
   "execution_count": null,
   "metadata": {},
   "outputs": [],
   "source": [
    "# декодирование результата в классы\n",
    "classes = tpu_tensor_to_classes(output[runner.output_nodes[0]])\n",
    "classes"
   ]
  }
 ],
 "metadata": {
  "kernelspec": {
   "display_name": "Python 3",
   "language": "python",
   "name": "python3"
  },
  "language_info": {
   "codemirror_mode": {
    "name": "ipython",
    "version": 3
   },
   "file_extension": ".py",
   "mimetype": "text/x-python",
   "name": "python",
   "nbconvert_exporter": "python",
   "pygments_lexer": "ipython3",
   "version": "3.6.9"
  }
 },
 "nbformat": 4,
 "nbformat_minor": 4
}
