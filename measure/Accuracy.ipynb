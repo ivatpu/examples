{
 "cells": [
  {
   "cell_type": "markdown",
   "source": [
    "# Измерение качества работы нейронных сетей"
   ],
   "metadata": {
    "collapsed": false
   }
  },
  {
   "cell_type": "code",
   "execution_count": null,
   "metadata": {
    "collapsed": true
   },
   "outputs": [],
   "source": [
    "from accuracy import evaluate_network\n",
    "from iva_applications.utils import TPURunner"
   ]
  },
  {
   "cell_type": "code",
   "execution_count": null,
   "outputs": [],
   "source": [
    "# определение пути до файла валидации с разметкой для тестирования\n",
    "imagenet_val_file_path = '/path/to/imagenet_val.txt'\n",
    "# определение пути до директории с валидационным набором данных ImageNet\n",
    "imagenet_dataset_dir = '/path/to/imagenet/ILSVRC2012_img_val'"
   ],
   "metadata": {
    "collapsed": false,
    "pycharm": {
     "name": "#%%\n"
    }
   }
  },
  {
   "cell_type": "code",
   "execution_count": null,
   "outputs": [],
   "source": [
    "# Инициализация IVA TPU предварительно скомпилированной программой\n",
    "program_path = '<network_name>.tpu'\n",
    "tpu_runner = TPURunner(program_path)"
   ],
   "metadata": {
    "collapsed": false,
    "pycharm": {
     "name": "#%%\n"
    }
   }
  },
  {
   "cell_type": "code",
   "execution_count": null,
   "outputs": [],
   "source": [
    "# измерение качества работы сети на наборе данных ImageNet.\n",
    "# По умолчанию лог отображает информацию каждые 1000 запусков.\n",
    "top_1, top_5 = evaluate_network(\n",
    "                imagenet_val_file_path,\n",
    "                imagenet_dataset_dir,\n",
    "                runner=tpu_runner, network_name='<network_name>', log_step=1000)"
   ],
   "metadata": {
    "collapsed": false,
    "pycharm": {
     "name": "#%%\n"
    }
   }
  }
 ],
 "metadata": {
  "kernelspec": {
   "display_name": "Python 3",
   "language": "python",
   "name": "python3"
  },
  "language_info": {
   "codemirror_mode": {
    "name": "ipython",
    "version": 2
   },
   "file_extension": ".py",
   "mimetype": "text/x-python",
   "name": "python",
   "nbconvert_exporter": "python",
   "pygments_lexer": "ipython2",
   "version": "2.7.6"
  }
 },
 "nbformat": 4,
 "nbformat_minor": 0
}