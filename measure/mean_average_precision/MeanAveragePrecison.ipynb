{
 "cells": [
  {
   "cell_type": "code",
   "execution_count": null,
   "metadata": {
    "collapsed": true
   },
   "outputs": [],
   "source": [
    "# Метрика Mean Average Precision\n",
    "Перед запуском убедитесь в наличии установленного python-модуля pycocotools==2.0\n",
    "Набор данных доступен по адресу cocodataset.org"
   ]
  },
  {
   "cell_type": "code",
   "execution_count": null,
   "outputs": [],
   "source": [
    "import tensorflow as tf\n",
    "from iva_applications.utils import TPURunner\n",
    "from mean_average_precision import get_network_outputs\n",
    "from iva_applications.mscoco17.config import CLASS_NAMES\n",
    "from map_utils import calculate_map\n",
    "from iva_applications.yolo3.postprocess import build_detection_graph"
   ],
   "metadata": {
    "collapsed": false,
    "pycharm": {
     "name": "#%%\n"
    }
   }
  },
  {
   "cell_type": "code",
   "execution_count": null,
   "outputs": [],
   "source": [
    "YOLO3_ANCHORS = [\n",
    "            (10, 13), (16, 30), (33, 23),\n",
    "            (30, 61), (62, 45), (59, 119),\n",
    "            (116, 90), (156, 198), (373, 326)\n",
    "]\n",
    "iou_threshold = 0.5\n",
    "confidence_threshold = 0.5"
   ],
   "metadata": {
    "collapsed": false,
    "pycharm": {
     "name": "#%%\n"
    }
   }
  },
  {
   "cell_type": "code",
   "execution_count": null,
   "outputs": [],
   "source": [
    "# Инициализация IVA TPU предварительно скомпилированной программой\n",
    "program_path = '<network_name>.tpu'\n",
    "tpu_runner = TPURunner(program_path)\n",
    "input_tensor_names = tpu_runner.input_nodes\n",
    "conv_outputs_names = tpu_runner.output_nodes"
   ],
   "metadata": {
    "collapsed": false,
    "pycharm": {
     "name": "#%%\n"
    }
   }
  },
  {
   "cell_type": "code",
   "execution_count": null,
   "outputs": [],
   "source": [
    "# Путь до набора данных\n",
    "images_path = 'coco2017/val2017'\n",
    "instances_path = 'coco17/annotations/instances_val2017.json'\n",
    "conv_outputs_tensors = {\n",
    "    'output_node_1/output:0': tf.placeholder(shape=(1, 19, 19, 255), dtype=tf.float32),\n",
    "    'output_node_2/output:0': tf.placeholder(shape=(1, 38, 38, 255), dtype=tf.float32),\n",
    "    'output_node_3/output:0': tf.placeholder(shape=(1, 76, 76, 255), dtype=tf.float32),\n",
    "}"
   ],
   "metadata": {
    "collapsed": false,
    "pycharm": {
     "name": "#%%\n"
    }
   }
  },
  {
   "cell_type": "code",
   "execution_count": null,
   "outputs": [],
   "source": [
    "# Построение графа постобработки\n",
    "detections = build_detection_graph(\n",
    "    conv_outputs_tensors,\n",
    "    (608, 608),\n",
    "    class_names=CLASS_NAMES,\n",
    "    anchors=YOLO3_ANCHORS,\n",
    "    iou_threshold=iou_threshold,\n",
    "    confidence_threshold=confidence_threshold)\n",
    "\n",
    "predictions, _, images = get_network_outputs(\n",
    "    images_path,\n",
    "    instances_path,\n",
    "    tpu_runner,\n",
    "    input_tensor_names=input_tensor_names,\n",
    "    conv_outputs_names=conv_outputs_names,\n",
    "    postprocessing_graph=detections,\n",
    "    yolo_size=608)"
   ],
   "metadata": {
    "collapsed": false,
    "pycharm": {
     "name": "#%%\n"
    }
   }
  },
  {
   "cell_type": "code",
   "execution_count": null,
   "outputs": [],
   "source": [
    "# Запуск вычисления метрики\n",
    "mean_ap = calculate_map(instances_path, predictions, images)"
   ],
   "metadata": {
    "collapsed": false,
    "pycharm": {
     "name": "#%%\n"
    }
   }
  }
 ],
 "metadata": {
  "kernelspec": {
   "display_name": "Python 3",
   "language": "python",
   "name": "python3"
  },
  "language_info": {
   "codemirror_mode": {
    "name": "ipython",
    "version": 2
   },
   "file_extension": ".py",
   "mimetype": "text/x-python",
   "name": "python",
   "nbconvert_exporter": "python",
   "pygments_lexer": "ipython2",
   "version": "2.7.6"
  }
 },
 "nbformat": 4,
 "nbformat_minor": 0
}